{
  "nbformat": 4,
  "nbformat_minor": 0,
  "metadata": {
    "colab": {
      "provenance": [],
      "authorship_tag": "ABX9TyMm/kqRvdVjtYjuVdWqpzXU",
      "include_colab_link": true
    },
    "kernelspec": {
      "name": "python3",
      "display_name": "Python 3"
    },
    "language_info": {
      "name": "python"
    }
  },
  "cells": [
    {
      "cell_type": "markdown",
      "metadata": {
        "id": "view-in-github",
        "colab_type": "text"
      },
      "source": [
        "<a href=\"https://colab.research.google.com/github/ameyshrotri/AI-Task-Scheduler/blob/main/Untitled0.ipynb\" target=\"_parent\"><img src=\"https://colab.research.google.com/assets/colab-badge.svg\" alt=\"Open In Colab\"/></a>"
      ]
    },
    {
      "cell_type": "code",
      "execution_count": 3,
      "metadata": {
        "colab": {
          "base_uri": "https://localhost:8080/",
          "height": 1000
        },
        "id": "IUNtQRdWQ1UH",
        "outputId": "2fbb4fdd-003c-4fae-9abc-59a6fb5523cc"
      },
      "outputs": [
        {
          "output_type": "stream",
          "name": "stdout",
          "text": [
            "Updated Dataset:\n",
            "    Student_ID  Math_Score  Reading_Score  History_Score  Placement_Score  \\\n",
            "0            1          66             81             69               93   \n",
            "1            2          79             78             63               91   \n",
            "2            3          74             83             77               82   \n",
            "3            4          70             77             71               77   \n",
            "4            5          67             79             61               77   \n",
            "5            6          80             77             69               75   \n",
            "6            7          66             81             63               79   \n",
            "7            8          78             79             73               84   \n",
            "8            9          70             83             75               81   \n",
            "9           10          70             81             74              100   \n",
            "10          11          80             76             67               83   \n",
            "11          12          63             78             73               81   \n",
            "12          13          67             83             67               83   \n",
            "13          14          62             76             80               82   \n",
            "14          15          80             84             75               86   \n",
            "15          16          61             83             72               76   \n",
            "16          17          71             84             77               75   \n",
            "17          18          65             79             74               90   \n",
            "18          19          61             76             80               97   \n",
            "19          20          80             78             72               97   \n",
            "20          21          60             81             68               98   \n",
            "21          22          71             82             74               79   \n",
            "22          23          71             77             72               77   \n",
            "23          24          76             75             60               86   \n",
            "24          25          69             78             66               82   \n",
            "25          26          75             76             68               96   \n",
            "26          27          74             82             60               77   \n",
            "27          28          74             78             71               75   \n",
            "28          29          78             76             67               77   \n",
            "29          30          71             80             70               79   \n",
            "\n",
            "    Placement  \n",
            "0           2  \n",
            "1           2  \n",
            "2           1  \n",
            "3           0  \n",
            "4           0  \n",
            "5           0  \n",
            "6           0  \n",
            "7           1  \n",
            "8           1  \n",
            "9           2  \n",
            "10          1  \n",
            "11          1  \n",
            "12          1  \n",
            "13          1  \n",
            "14          1  \n",
            "15          0  \n",
            "16          0  \n",
            "17          1  \n",
            "18          2  \n",
            "19          2  \n",
            "20          2  \n",
            "21          0  \n",
            "22          0  \n",
            "23          1  \n",
            "24          1  \n",
            "25          2  \n",
            "26          0  \n",
            "27          0  \n",
            "28          0  \n",
            "29          0  \n"
          ]
        },
        {
          "output_type": "display_data",
          "data": {
            "text/plain": [
              "<Figure size 800x500 with 1 Axes>"
            ],
            "image/png": "[encoded data removed]"
          },
          "metadata": {}
        }
      ],
      "source": [
        "import pandas as pd\n",
        "import numpy as np\n",
        "import matplotlib.pyplot as plt\n",
        "\n",
        "# Create a sample Academic Performance dataset for 30 students\n",
        "np.random.seed(42)  # for reproducibility\n",
        "\n",
        "data = {\n",
        "    'Student_ID': list(range(1, 31)),\n",
        "    'Math_Score': np.random.randint(60, 81, size=30),\n",
        "    'Reading_Score': np.random.randint(75, 86, size=30),\n",
        "    'History_Score': np.random.randint(60, 81, size=30),\n",
        "    'Placement_Score': np.random.randint(75, 101, size=30),\n",
        "}\n",
        "\n",
        "df = pd.DataFrame(data)\n",
        "\n",
        "# Define score limits for placement\n",
        "placement_limits = {\n",
        "    'low': (75, 80),\n",
        "    'medium': (81, 90),\n",
        "    'high': (91, 100)\n",
        "}\n",
        "\n",
        "# Function to determine placement based on score\n",
        "def determine_placement(score):\n",
        "    if placement_limits['low'][0] <= score <= placement_limits['low'][1]:\n",
        "        return 0\n",
        "    elif placement_limits['medium'][0] <= score <= placement_limits['medium'][1]:\n",
        "        return 1\n",
        "    elif placement_limits['high'][0] <= score <= placement_limits['high'][1]:\n",
        "        return 2\n",
        "    else:\n",
        "        return np.nan\n",
        "\n",
        "# Apply the determine_placement function to create the 'Placement' column\n",
        "df['Placement'] = df['Placement_Score'].apply(determine_placement)\n",
        "\n",
        "# Display the dataset\n",
        "print(\"Updated Dataset:\")\n",
        "print(df)\n",
        "\n",
        "# Visualize Placement Categories\n",
        "placement_counts = df['Placement'].value_counts().sort_index()\n",
        "\n",
        "plt.figure(figsize=(8, 5))\n",
        "plt.bar(placement_counts.index, placement_counts.values, color='skyblue')\n",
        "plt.xlabel('Placement Category')\n",
        "plt.ylabel('Number of Students')\n",
        "plt.title('Distribution of Placement Categories')\n",
        "plt.xticks(placement_counts.index, ['Low', 'Medium', 'High'])\n",
        "plt.show()\n"
      ]
    },
    {
      "cell_type": "code",
      "source": [],
      "metadata": {
        "id": "QtBbVsUwRHzj"
      },
      "execution_count": null,
      "outputs": []
    }
  ]
}